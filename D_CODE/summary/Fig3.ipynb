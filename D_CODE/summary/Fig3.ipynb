{
 "cells": [
  {
   "cell_type": "code",
   "execution_count": 24,
   "id": "fbbc23de",
   "metadata": {},
   "outputs": [],
   "source": [
    "import sympy\n",
    "import argparse\n",
    "import numpy as np\n",
    "import pickle\n",
    "import sys\n",
    "import os\n",
    "from pathlib import Path\n",
    "\n",
    "import matplotlib.pyplot as plt\n",
    "\n",
    "import equations\n",
    "import data\n",
    "from derivative import dxdt\n",
    "\n",
    "from gplearn.genetic import SymbolicRegressor\n",
    "from utils import generator"
   ]
  },
  {
   "cell_type": "code",
   "execution_count": 25,
   "id": "c2c47c03",
   "metadata": {},
   "outputs": [],
   "source": [
    "from pathlib import Path\n",
    "\n",
    "def load_results(path_base: Path, x_id: int = 0, seed_s: int = 0, seed_e: int = 1):\n",
    "    res_list = []\n",
    "    for s in range(seed_s, seed_e):\n",
    "        if x_id == 0:\n",
    "            path = path_base / f\"grad_seed_{s}.pkl\"\n",
    "        else:\n",
    "            path = path_base / f\"grad_x_{x_id}_seed_{s}.pkl\"\n",
    "\n",
    "        try:\n",
    "            with open(path, \"rb\") as f:\n",
    "                res = pickle.load(f)\n",
    "            res_list.append(res)\n",
    "        except FileNotFoundError:\n",
    "            pass   \n",
    "    return res_list\n"
   ]
  },
  {
   "cell_type": "code",
   "execution_count": 26,
   "id": "1917c4d5",
   "metadata": {},
   "outputs": [
    {
     "data": {
      "text/plain": [
       "1"
      ]
     },
     "execution_count": 26,
     "metadata": {},
     "output_type": "execute_result"
    }
   ],
   "source": [
    "ode_name = \"GompertzODE\"\n",
    "noise_sigma = 0.01\n",
    "n_sample = 50\n",
    "freq = 10\n",
    "x_id = 0\n",
    "seed_s = 0\n",
    "seed_e = 1\n",
    "\n",
    "path_base = Path(f\"results/{ode_name}/noise-{noise_sigma}/sample-{n_sample}/freq-{freq}/\")\n",
    "\n",
    "res_list = load_results(path_base, x_id = x_id, seed_s = seed_s, seed_e = seed_e)\n",
    "\n",
    "len(res_list)"
   ]
  },
  {
   "cell_type": "code",
   "execution_count": 27,
   "id": "8a69b88c",
   "metadata": {},
   "outputs": [
    {
     "data": {
      "text/plain": [
       "1"
      ]
     },
     "execution_count": 27,
     "metadata": {},
     "output_type": "execute_result"
    }
   ],
   "source": [
    "path_base = Path(f\"results_vi/{ode_name}/noise-{noise_sigma}/sample-{n_sample}/freq-{freq}/\")\n",
    "\n",
    "res_list_vi = load_results(path_base, x_id = x_id, seed_s = seed_s, seed_e = seed_e)\n",
    "\n",
    "len(res_list_vi)"
   ]
  },
  {
   "cell_type": "code",
   "execution_count": 31,
   "id": "684956db",
   "metadata": {},
   "outputs": [
    {
     "name": "stdout",
     "output_type": "stream",
     "text": [
      "{'model': <gplearn._program._Program object at 0x157f5cbc0>, 'X_train': array([[0.01052971],\n",
      "       [0.00798161],\n",
      "       [0.00118547],\n",
      "       ...,\n",
      "       [0.65695695],\n",
      "       [0.6581604 ],\n",
      "       [0.65629451]]), 'y_train': array([ 0.06538956,  0.03836167,  0.00715802, ...,  0.0056707 ,\n",
      "       -0.00629504,  0.02038583]), 'seed': 0, 'correct': False, 'f_hat': -X0*(X0**2 + log(X0)), 'ode': <equations.GompertzODE object at 0x157f575c0>, 'noise_ratio': 0.01, 'noise_sigma': 0.0023405202469895243, 'dg': <data.DataGenerator object at 0x157f6de20>, 'time': 83.08147668838501}\n"
     ]
    }
   ],
   "source": [
    "ode_true = res_list[0]\n",
    "print(ode_true)"
   ]
  },
  {
   "cell_type": "code",
   "execution_count": 32,
   "id": "ed03c276",
   "metadata": {},
   "outputs": [
    {
     "name": "stdout",
     "output_type": "stream",
     "text": [
      "ode_true\n",
      "<equations.GompertzODE object at 0x157f575c0>\n",
      "()\n",
      "f_hat\n",
      "<bound method _Program.execute of <gplearn._program._Program object at 0x157f5cbc0>>\n",
      "()\n",
      "xt_true\n",
      "[[[0.0054183 ]\n",
      "  [0.00903338]\n",
      "  [0.00882845]\n",
      "  ...\n",
      "  [0.00378295]\n",
      "  [0.00797883]\n",
      "  [0.00548303]]\n",
      "\n",
      " [[0.0105923 ]\n",
      "  [0.01644585]\n",
      "  [0.01612421]\n",
      "  ...\n",
      "  [0.00777483]\n",
      "  [0.01477932]\n",
      "  [0.01070112]]\n",
      "\n",
      " [[0.01886096]\n",
      "  [0.02754337]\n",
      "  [0.02707909]\n",
      "  ...\n",
      "  [0.01445349]\n",
      "  [0.02512341]\n",
      "  [0.01902762]]\n",
      "\n",
      " ...\n",
      "\n",
      " [[0.65601744]\n",
      "  [0.65714042]\n",
      "  [0.65709   ]\n",
      "  ...\n",
      "  [0.65522934]\n",
      "  [0.65686741]\n",
      "  [0.65604351]]\n",
      "\n",
      " [[0.65749052]\n",
      "  [0.65845915]\n",
      "  [0.65841567]\n",
      "  ...\n",
      "  [0.65681059]\n",
      "  [0.65822367]\n",
      "  [0.657513  ]]\n",
      "\n",
      " [[0.65876099]\n",
      "  [0.65959631]\n",
      "  [0.65955881]\n",
      "  ...\n",
      "  [0.65817462]\n",
      "  [0.6593932 ]\n",
      "  [0.65878038]]]\n",
      "(41, 100, 1)\n",
      "[[0.0054183 ]\n",
      " [0.00903338]\n",
      " [0.00882845]\n",
      " ...\n",
      " [0.65817462]\n",
      " [0.6593932 ]\n",
      " [0.65878038]]\n",
      "(4100, 1)\n",
      "[ 0.0282724   0.04251783  0.04175589 ... -0.00981262 -0.01210917\n",
      " -0.01095323]\n",
      "(4100,)\n",
      "[array([0.0054183 , 0.00903338, 0.00882845, ..., 0.65817462, 0.6593932 ,\n",
      "       0.65878038])]\n",
      "(1, 4100)\n",
      "[0.03911344 0.05828378 0.05726542 ... 0.01265659 0.01085047 0.01175918]\n",
      "(4100,)\n",
      "0.02535681219906017\n",
      "()\n"
     ]
    }
   ],
   "source": [
    "ode_true = res_list[0]['ode']\n",
    "print('ode_true')\n",
    "print(ode_true)\n",
    "print(np.shape(ode_true))\n",
    "\n",
    "f_hat = res_list[0]['model'].execute\n",
    "print('f_hat')\n",
    "print(f_hat)\n",
    "print(np.shape(f_hat))\n",
    "\n",
    "dg_true = data.DataGenerator(ode_true, ode_true.T, freq=10, n_sample=100, noise_sigma=0., init_high=ode_true.init_high, init_low=ode_true.init_low)\n",
    "xt_true = dg_true.xt\n",
    "print('xt_true')\n",
    "print(xt_true)\n",
    "print(np.shape(xt_true))\n",
    "\n",
    "xt_true = xt_true.reshape(xt_true.shape[0] * xt_true.shape[1], xt_true.shape[2])\n",
    "print(xt_true)\n",
    "print(np.shape(xt_true))\n",
    "\n",
    "dxdt_hat = f_hat(xt_true).flatten()\n",
    "print(dxdt_hat)\n",
    "print(np.shape(dxdt_hat))\n",
    "\n",
    "x_in = [xt_true[:, i] for i in range(xt_true.shape[1])]\n",
    "print(x_in)\n",
    "print(np.shape(x_in))\n",
    "\n",
    "dxdt_true = ode_true._dx_dt(*x_in)[x_id]\n",
    "print(dxdt_true)\n",
    "print(np.shape(dxdt_true))\n",
    "\n",
    "rmse = np.sqrt(np.mean((dxdt_hat - dxdt_true) ** 2))\n",
    "print(rmse)\n",
    "print(np.shape(rmse))\n"
   ]
  },
  {
   "cell_type": "code",
   "execution_count": 11,
   "id": "3e9544a1",
   "metadata": {},
   "outputs": [
    {
     "name": "stdout",
     "output_type": "stream",
     "text": [
      "41 50 1\n"
     ]
    }
   ],
   "source": [
    "T, B, D = res_list[0][\"dg\"].xt.shape\n",
    "#print(res_list[0]['dg'])\n",
    "#print(T, B, D)"
   ]
  },
  {
   "cell_type": "code",
   "execution_count": 18,
   "id": "9ce7bf62",
   "metadata": {},
   "outputs": [
    {
     "name": "stdout",
     "output_type": "stream",
     "text": [
      "[0.00119111 0.00287556 0.00614007 0.01179601 0.02069183 0.03356346\n",
      " 0.05089486 0.07282759 0.09913821 0.12927912 0.16246403 0.19777178\n",
      " 0.23424746 0.27098547 0.30718784 0.34219722 0.37550868 0.40676534\n",
      " 0.43574372 0.46233348 0.48651491 0.50833845 0.52790452 0.5453472\n",
      " 0.56082105 0.57449066 0.5865227  0.59708037 0.60631949 0.61438607\n",
      " 0.62141492 0.62752906 0.63283969 0.63744657 0.64143861 0.64489461\n",
      " 0.64788411 0.65046831 0.65270079 0.65462838 0.65629201]\n",
      "(41,)\n",
      "[0.00118547 0.00175735 0.00314239 0.01360442 0.02451615 0.03204313\n",
      " 0.05296638 0.07340741 0.09650723 0.12927587 0.16248389 0.19625451\n",
      " 0.23375906 0.2691999  0.30806001 0.34076515 0.37722826 0.40617138\n",
      " 0.44101081 0.46056258 0.48322492 0.50854696 0.52826615 0.54280161\n",
      " 0.56307176 0.5738697  0.59129715 0.59419561 0.60467942 0.6154947\n",
      " 0.62182656 0.6266868  0.63436246 0.63795701 0.64040361 0.64210307\n",
      " 0.6492953  0.64956909 0.65315257 0.65309953 0.65629817]\n",
      "(41,)\n",
      "[0.00251482 0.00278402 0.00346429 0.00471157 0.00669626 0.0095416\n",
      " 0.01327777 0.01786633 0.02327474 0.02951825 0.03662608 0.04459627\n",
      " 0.05343666 0.06327385 0.07437391 0.08696219 0.10096415 0.11594976\n",
      " 0.13140804 0.14712281 0.16327036 0.18013287 0.19773667 0.21579947\n",
      " 0.23400295 0.25223355 0.27050551 0.28870266 0.30651453 0.32369103\n",
      " 0.34031231 0.3567121  0.37309732 0.38928526 0.40486324 0.41959444\n",
      " 0.43361474 0.44721431 0.46046985 0.47314395 0.48494708 0.49585861\n",
      " 0.50616675 0.51620968 0.52609511 0.53565135 0.5446104  0.5528308\n",
      " 0.56038352 0.56746411 0.57421924 0.5806275  0.58654065 0.59186794\n",
      " 0.59673429 0.60142192 0.60610358 0.61063286 0.61466277 0.61803395\n",
      " 0.62103123 0.62417589 0.62770178 0.63125568 0.63418987 0.63620018\n",
      " 0.63765751 0.63926247 0.64136249 0.6436506  0.64557177 0.64698745\n",
      " 0.64833726 0.65007819 0.65203236 0.65347915 0.65404767 0.65443438\n",
      " 0.65582095 0.65795156 0.65725036]\n",
      "(81,)\n",
      "[0.  0.1 0.2 0.3 0.4 0.5 0.6 0.7 0.8 0.9 1.  1.1 1.2 1.3 1.4 1.5 1.6 1.7\n",
      " 1.8 1.9 2.  2.1 2.2 2.3 2.4 2.5 2.6 2.7 2.8 2.9 3.  3.1 3.2 3.3 3.4 3.5\n",
      " 3.6 3.7 3.8 3.9 4. ]\n",
      "(41,)\n"
     ]
    }
   ],
   "source": [
    "b = 2\n",
    "\n",
    "x_true = res_list[0][\"dg\"].xt[:, b, 0]\n",
    "print(x_true)\n",
    "print(np.shape(x_true))\n",
    "x_noise = res_list[0][\"dg\"].yt[:, b, 0]\n",
    "print(x_noise)\n",
    "print(np.shape(x_noise))\n",
    "x_hat = res_list_vi[0][\"ode_data\"][\"x_hat\"][:, b, 0]\n",
    "print(x_hat)\n",
    "print(np.shape(x_hat))\n",
    "t = res_list[0][\"dg\"].solver.t\n",
    "print(t)\n",
    "print(np.shape(t))"
   ]
  },
  {
   "cell_type": "code",
   "execution_count": 19,
   "id": "a8009d83",
   "metadata": {},
   "outputs": [
    {
     "name": "stdout",
     "output_type": "stream",
     "text": [
      "[0.00715802 0.01872698 0.049822   0.08300727 0.10973779 0.14694375\n",
      " 0.19139228 0.23334723 0.279125   0.31844328 0.34285199 0.35906843\n",
      " 0.36789915 0.36930453 0.36192911 0.34881284 0.33032801 0.30521751\n",
      " 0.27058377 0.23960521 0.22591874 0.21030356 0.18802425 0.17091397\n",
      " 0.15276264 0.13073451 0.10554088 0.08907686 0.08714381 0.07974485\n",
      " 0.06760119 0.05861108 0.0482437  0.03638096 0.03138595 0.03372962\n",
      " 0.03139266 0.02425471 0.01933308 0.01812267]\n",
      "(40,)\n",
      "[ 0.10562029  0.13303034  0.15831157  0.181464    0.20248761  0.22138241\n",
      "  0.2381484   0.25278558  0.26529394  0.2756735   0.28392424  0.29004617\n",
      "  0.29403928  0.29590359  0.29563908  0.29324576  0.28872363  0.28207269\n",
      "  0.27329293  0.26238436  0.24934698  0.23503724  0.22031158  0.20517001\n",
      "  0.18961253  0.17363912  0.15724981  0.14044458  0.12322343  0.10558638\n",
      "  0.0875334   0.06906451  0.05017971  0.03087899  0.01116236 -0.00897018\n",
      " -0.02951864 -0.05048302 -0.07186331 -0.09365951]\n",
      "(40,)\n",
      "[ 0.03714144  0.07700738  0.11379377  0.14750062  0.17812792  0.20567569\n",
      "  0.23014391  0.25153259  0.26984172  0.28507131  0.29722136  0.30629187\n",
      "  0.31228283  0.31519425  0.31502613  0.31177846  0.30545125  0.2960445\n",
      "  0.2835582   0.26799236  0.24934698  0.22942924  0.21004631  0.1911982\n",
      "  0.1728849   0.15510642  0.13786276  0.12115392  0.10497989  0.08934067\n",
      "  0.07423628  0.0596667   0.04563193  0.03213199  0.01916685  0.00673654\n",
      " -0.00515896 -0.01651964 -0.02734551 -0.03763655]\n",
      "(40,)\n",
      "[0.01130499 0.02349061 0.04317195 0.071387   0.10778015 0.15047433\n",
      " 0.19639268 0.24188176 0.28340271 0.31808799 0.34405825 0.36049141\n",
      " 0.36750338 0.36592183 0.35702788 0.34231849 0.32331781 0.30144589\n",
      " 0.27794081 0.25382366 0.2298948  0.20674839 0.18479937 0.16431381\n",
      " 0.14543909 0.12823177 0.11268169 0.09873182 0.08629422 0.07526228\n",
      " 0.06551997 0.05694845 0.04943082 0.04285526 0.03711686 0.03211891\n",
      " 0.02777317 0.02399993 0.02072784 0.01789341]\n",
      "(40,)\n"
     ]
    }
   ],
   "source": [
    "y_hat = res_list[0][\"y_train\"].reshape(T - 1, B)[:, b]\n",
    "print(y_hat)\n",
    "print(np.shape(y_hat))\n",
    "y_hat_spline = dxdt(x_noise, t, kind=\"spline\", s=0.012)[:-1]\n",
    "print(y_hat_spline)\n",
    "print(np.shape(y_hat_spline))\n",
    "y_hat_direct = dxdt(x_noise, t, kind=\"spline\", s=0.005)[:-1]\n",
    "print(y_hat_direct)\n",
    "print(np.shape(y_hat_direct))\n",
    "y_true = res_list[0][\"ode\"]._dx_dt(x_true)[0][:-1]\n",
    "print(y_true)\n",
    "print(np.shape(y_true))"
   ]
  },
  {
   "cell_type": "code",
   "execution_count": null,
   "id": "87f1c7b1",
   "metadata": {},
   "outputs": [],
   "source": []
  },
  {
   "cell_type": "code",
   "execution_count": 21,
   "id": "6454e721",
   "metadata": {},
   "outputs": [
    {
     "name": "stdout",
     "output_type": "stream",
     "text": [
      "1\n",
      "1\n"
     ]
    }
   ],
   "source": [
    "ode_name = \"GompertzODE\"\n",
    "noise_sigma = 0.02\n",
    "n_sample = 50\n",
    "freq = 10\n",
    "x_id = 0\n",
    "seed_s = 0\n",
    "seed_e = 1\n",
    "\n",
    "path_base = Path(f\"results/{ode_name}/noise-{noise_sigma}/sample-{n_sample}/freq-{freq}/\")\n",
    "\n",
    "res_list2 = load_results(path_base, x_id = x_id, seed_s = seed_s, seed_e = seed_e)\n",
    "\n",
    "print(len(res_list2))\n",
    "\n",
    "path_base = Path(f\"results_vi/{ode_name}/noise-{noise_sigma}/sample-{n_sample}/freq-{freq}/\")\n",
    "\n",
    "res_list2_vi = load_results(path_base, x_id = x_id, seed_s = seed_s, seed_e = seed_e)\n",
    "\n",
    "print(len(res_list2_vi))"
   ]
  },
  {
   "cell_type": "code",
   "execution_count": 22,
   "id": "7b2e4e70",
   "metadata": {},
   "outputs": [],
   "source": [
    "T, B, D = res_list2[0][\"dg\"].xt.shape\n",
    "\n",
    "b = 2\n",
    "\n",
    "x_true2 = res_list2[0][\"dg\"].xt[:, b, 0]\n",
    "x_noise2 = res_list2[0][\"dg\"].yt[:, b, 0]\n",
    "x_hat2 = res_list2_vi[0][\"ode_data\"][\"x_hat\"][:, b, 0]\n",
    "t2 = res_list2[0][\"dg\"].solver.t\n",
    "\n",
    "y_hat2 = res_list2[0][\"y_train\"].reshape(T - 1, B)[:, b]\n",
    "y_hat_spline2 = dxdt(x_noise2, t2, kind=\"spline\", s=0.001)\n",
    "y_hat_direct2 = dxdt(x_noise2, t2, kind=\"spline\", s=0.00)\n",
    "y_true2 = res_list2[0][\"ode\"]._dx_dt(x_true2)[0][:-1]"
   ]
  },
  {
   "cell_type": "code",
   "execution_count": 23,
   "id": "65f763cf",
   "metadata": {},
   "outputs": [
    {
     "name": "stderr",
     "output_type": "stream",
     "text": [
      "<>:36: SyntaxWarning: invalid escape sequence '\\d'\n",
      "<>:36: SyntaxWarning: invalid escape sequence '\\d'\n",
      "/var/folders/y_/d9skplf930bcv4p3z5fvnb7w0000gn/T/ipykernel_29710/487710754.py:36: SyntaxWarning: invalid escape sequence '\\d'\n",
      "  plt.plot(t[:-1], y_true, label=\"${\\dot{X}}(t)$\")\n"
     ]
    },
    {
     "data": {
      "image/png": "[encoded data removed]",
      "text/plain": [
       "<Figure size 1200x250 with 3 Axes>"
      ]
     },
     "metadata": {},
     "output_type": "display_data"
    }
   ],
   "source": [
    "plt.figure(figsize=(12, 2.5))\n",
    "plt.style.use(\"tableau-colorblind10\")\n",
    "colors = plt.rcParams[\"axes.prop_cycle\"].by_key()[\"color\"]\n",
    "plt.rcParams[\"font.size\"] = \"13\"\n",
    "\n",
    "plt.subplot(131)\n",
    "plt.fill_between(\n",
    "    res_list_vi[0][\"t_new\"], x_hat - 0.01, x_hat + 0.02, alpha=0.2, color=colors[3]\n",
    ")\n",
    "plt.plot(t, x_noise, \"o\", ms=4, label=r\"$Y(t)$\", color=colors[1])\n",
    "plt.plot(t, x_true, label=r\"$X(t)$\", color=colors[0])\n",
    "plt.plot(\n",
    "    res_list_vi[0][\"t_new\"][::2],\n",
    "    x_hat[::2],\n",
    "    \"-\",\n",
    "    ms=4,\n",
    "    label=r\"$\\hat{X}(t)$\",\n",
    "    color=colors[3],\n",
    ")\n",
    "# plt.ylabel('Trajectory', fontsize=14)\n",
    "plt.xlabel(r\"Time $t$\", fontsize=14)\n",
    "plt.title(\"(A) Trajectory\")\n",
    "plt.legend(fontsize=12)\n",
    "\n",
    "plt.subplot(132)\n",
    "plt.plot(t[:-1], y_true, label=r\"$\\dot{X}(t)$ True\")\n",
    "plt.plot(t[:-1], y_hat_direct, \"o-\", ms=4, label=r\"${\\dot{X}}(t)$ TV\", color=colors[8])\n",
    "# plt.ylabel('Derivative', fontsize=14)\n",
    "plt.yticks([0.0, 0.2, 0.4])\n",
    "plt.xlabel(r\"Time $t$\", fontsize=14)\n",
    "plt.ylim((-0.25, 0.52))\n",
    "plt.text(s=\"High noise\", x=2.5, y=0.3, color=\"black\", fontsize=14)\n",
    "plt.title(\"(B) Derivative\")\n",
    "\n",
    "plt.subplot(133)\n",
    "plt.plot(t[:-1], y_true, label=\"${\\dot{X}}(t)$\")\n",
    "plt.plot(t[:-1], y_hat, \"o-\", ms=4, label=r\"SR-T\", color=colors[5])\n",
    "plt.plot(t[:-1], y_hat_spline, \"o-\", ms=4, label=r\"SR-S\", color=colors[6])\n",
    "# plt.ylabel('Derivative', fontsize=14)\n",
    "plt.yticks([0.0, 0.2, 0.4])\n",
    "plt.xlabel(r\"Time $t$\", fontsize=14)\n",
    "plt.ylim((-0.25, 0.52))\n",
    "# plt.axvline(x=0, linestyle='--', color='black')\n",
    "# plt.axvline(x=1.5, linestyle='--', color='black')\n",
    "plt.text(s=\"Bias\", x=1.0, y=0.05, color=\"black\", fontsize=14)\n",
    "plt.arrow(\n",
    "    1.2, 0.15, 0.0, 0.15, head_length=0.05, head_width=0.15, length_includes_head=True\n",
    ")\n",
    "plt.legend(fontsize=12)\n",
    "plt.title(\"(C) Estimated Derivative\")\n",
    "\n",
    "\n",
    "plt.tight_layout(pad=0.2)\n",
    "\n",
    "plt.savefig(fname=\"Gompertz_plot.png\", dpi=200)"
   ]
  }
 ],
 "metadata": {
  "kernelspec": {
   "display_name": "Python 3 (ipykernel)",
   "language": "python",
   "name": "python3"
  },
  "language_info": {
   "codemirror_mode": {
    "name": "ipython",
    "version": 3
   },
   "file_extension": ".py",
   "mimetype": "text/x-python",
   "name": "python",
   "nbconvert_exporter": "python",
   "pygments_lexer": "ipython3",
   "version": "3.12.2"
  }
 },
 "nbformat": 4,
 "nbformat_minor": 5
}
